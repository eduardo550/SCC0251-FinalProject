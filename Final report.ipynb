{
 "cells": [
  {
   "cell_type": "markdown",
   "source": [
    "# Implementation and Comparison of different Steganographic techniques\n",
    "* Eduardo de Sousa Siqueira\t\tnUSP: 9278299\n",
    "* Igor Barbosa Grécia Lúcio\t\tnUSP: 9778821"
   ],
   "metadata": {}
  },
  {
   "cell_type": "markdown",
   "source": [
    "## Objetivo Principal\n",
    "\n",
    "Nesse projeto iremos implementar diferentes técnicas de estenografia para esconder dados em imagens digitais. Iremos comparar diferentes técnicas no domínio espacial e no frequencial com relação à qualidade do objeto resultante (objeto stego) e a distorção em relação à imagem original (imagem cover). Nosso objetivo é aprender sobre a aplicação de Estenografia em Imagens assim como seus efeitos."
   ],
   "metadata": {}
  },
  {
   "cell_type": "markdown",
   "source": [
    "## Imagens de Entrada\n",
    "\n",
    "Para essa aplicação, qualquer conjunto de imagens funcionaria. No nosso projeto, escolhemos 39 imagens da base de dados de imagens Cover do desafio do Kaggle [ALASKA2 Image Steganalysis](https://www.kaggle.com/c/alaska2-image-steganalysis/data) para imbutir com dados. Essa base foi escolhida por ter acesso simples a uma base organizada de imagens JPEG e por possuir grande similaridade ao tema deste projeto.\n",
    "\n",
    "Para as demonstrações nas seções seguintes, será utilizada a imagem"
   ],
   "metadata": {}
  },
  {
   "cell_type": "markdown",
   "source": [],
   "metadata": {}
  }
 ],
 "metadata": {
  "kernelspec": {
   "display_name": "Python 3",
   "language": "python",
   "name": "python3"
  },
  "language_info": {
   "codemirror_mode": {
    "name": "ipython",
    "version": 3
   },
   "file_extension": ".py",
   "mimetype": "text/x-python",
   "name": "python",
   "nbconvert_exporter": "python",
   "pygments_lexer": "ipython3",
   "version": "3.8.10"
  }
 },
 "nbformat": 4,
 "nbformat_minor": 5
}